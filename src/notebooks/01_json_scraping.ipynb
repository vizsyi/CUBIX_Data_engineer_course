{
 "cells": [
  {
   "cell_type": "code",
   "execution_count": 1,
   "metadata": {},
   "outputs": [],
   "source": [
    "import json"
   ]
  },
  {
   "cell_type": "code",
   "execution_count": 2,
   "metadata": {},
   "outputs": [
    {
     "data": {
      "text/plain": [
       "_io.TextIOWrapper"
      ]
     },
     "execution_count": 2,
     "metadata": {},
     "output_type": "execute_result"
    }
   ],
   "source": [
    "file_path = \"../../data/json_handling/spotify_playlist.json\"\n",
    "\n",
    "with open(file_path, \"r\") as json_file:\n",
    "    data = json.load(json_file)\n",
    "\n",
    "type(json_file)"
   ]
  },
  {
   "cell_type": "code",
   "execution_count": 5,
   "metadata": {},
   "outputs": [
    {
     "data": {
      "text/plain": [
       "'3D (feat. Jack Harlow)'"
      ]
     },
     "execution_count": 5,
     "metadata": {},
     "output_type": "execute_result"
    }
   ],
   "source": [
    "data[\"contents\"][\"items\"][0][\"name\"]"
   ]
  },
  {
   "cell_type": "code",
   "execution_count": 7,
   "metadata": {},
   "outputs": [
    {
     "name": "stdout",
     "output_type": "stream",
     "text": [
      "30569756 3D (feat. Jack Harlow)\n",
      "825957263 Seven (feat. Latto) (Explicit Ver.)\n",
      "356592711 Paint The Town Red\n",
      "74959220 greedy\n",
      "110198354 Strangers\n",
      "1151554203 Cruel Summer\n",
      "196461114 QLONA\n",
      "470247058 LALA\n",
      "24413575 Si No Estás\n",
      "432858794 vampire\n",
      "29712924 UN PREVIEW\n",
      "341014134 fukumean\n",
      "1483444237 I Wanna Be Yours\n",
      "344168581 What Was I Made For? [From The Motion Picture \"Barbie\"]\n",
      "282928846 LADY GAGA\n",
      "326179824 Columbia\n",
      "412675720 Dance The Night - From Barbie The Album\n",
      "598705196 Daylight\n",
      "108629879 Prada\n",
      "2708288511 As It Was\n",
      "2714056733 Starboy\n",
      "1354228715 Kill Bill\n",
      "77004685 Que Onda\n",
      "89028576 Chaleya\n",
      "169009521 bad idea right?\n",
      "59731033 Según Quién\n",
      "33302347 My Love Mine All Mine\n",
      "97820711 I Remember Everything (feat. Kacey Musgraves)\n",
      "1514020374 Blank Space\n",
      "232720041 Primera Cita\n",
      "946521797 Style\n",
      "1794007610 Die For You\n",
      "396579126 Sprinter\n",
      "2409314138 Sweater Weather\n",
      "88232115 Slow Dancing\n",
      "1945986950 Another Love\n",
      "280865681 Popular (with Playboi Carti & Madonna) - Music from the HBO Original Series\n",
      "511503353 Classy 101\n",
      "1152223713 Anti-Hero\n",
      "119389528 Holanda\n",
      "1505384084 Flowers\n",
      "263511015 Super Shy\n",
      "151877671 I KNOW ?\n",
      "522751233 Snooze\n",
      "76823188 get him back!\n",
      "111564028 Heeriye (feat. Arijit Singh)\n",
      "782430186 we fell in love in october\n",
      "675308826 un x100to\n",
      "899798987 Ella Baila Sola\n",
      "24556342 Agora Hills\n"
     ]
    }
   ],
   "source": [
    "for track in data[\"contents\"][\"items\"]:\n",
    "    #print(track)\n",
    "    print(track[\"playCount\"], track[\"name\"])\n"
   ]
  }
 ],
 "metadata": {
  "kernelspec": {
   "display_name": "venv",
   "language": "python",
   "name": "python3"
  },
  "language_info": {
   "codemirror_mode": {
    "name": "ipython",
    "version": 3
   },
   "file_extension": ".py",
   "mimetype": "text/x-python",
   "name": "python",
   "nbconvert_exporter": "python",
   "pygments_lexer": "ipython3",
   "version": "3.11.7"
  }
 },
 "nbformat": 4,
 "nbformat_minor": 2
}
