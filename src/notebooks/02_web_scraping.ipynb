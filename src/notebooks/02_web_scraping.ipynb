{
 "cells": [
  {
   "cell_type": "code",
   "execution_count": null,
   "metadata": {},
   "outputs": [],
   "source": [
    "from bs4 import BeautifulSoup\n",
    "import pandas as pd\n",
    "import requests"
   ]
  },
  {
   "cell_type": "code",
   "execution_count": null,
   "metadata": {},
   "outputs": [],
   "source": [
    "response = requests.get(url=\"https://en.wikipedia.org/wiki/Community_areas_in_Chicago\")\n",
    "\n",
    "soup = BeautifulSoup(response.content, \"html.parser\")"
   ]
  },
  {
   "cell_type": "code",
   "execution_count": null,
   "metadata": {},
   "outputs": [],
   "source": [
    "title =  soup.find(id = \"firstHeading\")\n",
    "print(title.string)"
   ]
  },
  {
   "cell_type": "code",
   "execution_count": null,
   "metadata": {},
   "outputs": [],
   "source": [
    "print(soup.prettify())"
   ]
  },
  {
   "cell_type": "code",
   "execution_count": null,
   "metadata": {},
   "outputs": [],
   "source": [
    "soup.find_all(\"table\")"
   ]
  },
  {
   "cell_type": "code",
   "execution_count": null,
   "metadata": {},
   "outputs": [],
   "source": [
    "for table in soup.find_all(\"table\"):\n",
    "    print(table.get(\"class\"))"
   ]
  },
  {
   "cell_type": "code",
   "execution_count": null,
   "metadata": {},
   "outputs": [],
   "source": [
    "table = soup.find(\"table\", class_ =\"wikitable sortable plainrowheaders mw-datatable\")\n",
    "table"
   ]
  },
  {
   "cell_type": "code",
   "execution_count": null,
   "metadata": {},
   "outputs": [],
   "source": [
    "for row in table.tbody.find_all(\"tr\")[2: -1]:\n",
    "    print (row)\n",
    "    print (\"-\" * 100)"
   ]
  },
  {
   "cell_type": "code",
   "execution_count": null,
   "metadata": {},
   "outputs": [],
   "source": [
    "for row in table.tbody.find_all(\"tr\")[2: -1]:\n",
    "    cells = row.find_all(\"td\")\n",
    "    print (cells)"
   ]
  },
  {
   "cell_type": "code",
   "execution_count": null,
   "metadata": {},
   "outputs": [],
   "source": [
    "for row in table.tbody.find_all(\"tr\")[2: -1]:\n",
    "    cells = row.find_all(\"td\")\n",
    "    print (cells[0].get_text(strip = True))"
   ]
  },
  {
   "cell_type": "code",
   "execution_count": 25,
   "metadata": {},
   "outputs": [
    {
     "data": {
      "text/plain": [
       "[{'area_code': '01', 'community_name': 'Rogers Park'},\n",
       " {'area_code': '02', 'community_name': 'West Ridge'},\n",
       " {'area_code': '03', 'community_name': 'Uptown'},\n",
       " {'area_code': '04', 'community_name': 'Lincoln Square'},\n",
       " {'area_code': '05', 'community_name': 'North Center'},\n",
       " {'area_code': '06', 'community_name': 'Lake View'},\n",
       " {'area_code': '07', 'community_name': 'Lincoln Park'},\n",
       " {'area_code': '08', 'community_name': 'Near North Side'},\n",
       " {'area_code': '09', 'community_name': 'Edison Park'},\n",
       " {'area_code': '10', 'community_name': 'Norwood Park'},\n",
       " {'area_code': '11', 'community_name': 'Jefferson Park'},\n",
       " {'area_code': '12', 'community_name': 'Forest Glen'},\n",
       " {'area_code': '13', 'community_name': 'North Park'},\n",
       " {'area_code': '14', 'community_name': 'Albany Park'},\n",
       " {'area_code': '15', 'community_name': 'Portage Park'},\n",
       " {'area_code': '16', 'community_name': 'Irving Park'},\n",
       " {'area_code': '17', 'community_name': 'Dunning'},\n",
       " {'area_code': '18', 'community_name': 'Montclare'},\n",
       " {'area_code': '19', 'community_name': 'Belmont Cragin'},\n",
       " {'area_code': '20', 'community_name': 'Hermosa'},\n",
       " {'area_code': '21', 'community_name': 'Avondale'},\n",
       " {'area_code': '22', 'community_name': 'Logan Square'},\n",
       " {'area_code': '23', 'community_name': 'Humboldt Park'},\n",
       " {'area_code': '24', 'community_name': 'West Town'},\n",
       " {'area_code': '25', 'community_name': 'Austin'},\n",
       " {'area_code': '26', 'community_name': 'West Garfield Park'},\n",
       " {'area_code': '27', 'community_name': 'East Garfield Park'},\n",
       " {'area_code': '28', 'community_name': 'Near West Side'},\n",
       " {'area_code': '29', 'community_name': 'North Lawndale'},\n",
       " {'area_code': '30', 'community_name': 'South Lawndale'},\n",
       " {'area_code': '31', 'community_name': 'Lower West Side'},\n",
       " {'area_code': '32', 'community_name': 'Loop'},\n",
       " {'area_code': '33', 'community_name': 'Near South Side'},\n",
       " {'area_code': '34', 'community_name': 'Armour Square'},\n",
       " {'area_code': '35', 'community_name': 'Douglas'},\n",
       " {'area_code': '36', 'community_name': 'Oakland'},\n",
       " {'area_code': '37', 'community_name': 'Fuller Park'},\n",
       " {'area_code': '38', 'community_name': 'Grand Boulevard'},\n",
       " {'area_code': '39', 'community_name': 'Kenwood'},\n",
       " {'area_code': '40', 'community_name': 'Washington Park'},\n",
       " {'area_code': '41', 'community_name': 'Hyde Park'},\n",
       " {'area_code': '42', 'community_name': 'Woodlawn'},\n",
       " {'area_code': '43', 'community_name': 'South Shore'},\n",
       " {'area_code': '44', 'community_name': 'Chatham'},\n",
       " {'area_code': '45', 'community_name': 'Avalon Park'},\n",
       " {'area_code': '46', 'community_name': 'South Chicago'},\n",
       " {'area_code': '47', 'community_name': 'Burnside'},\n",
       " {'area_code': '48', 'community_name': 'Calumet Heights'},\n",
       " {'area_code': '49', 'community_name': 'Roseland'},\n",
       " {'area_code': '50', 'community_name': 'Pullman'},\n",
       " {'area_code': '51', 'community_name': 'South Deering'},\n",
       " {'area_code': '52', 'community_name': 'East Side'},\n",
       " {'area_code': '53', 'community_name': 'West Pullman'},\n",
       " {'area_code': '54', 'community_name': 'Riverdale'},\n",
       " {'area_code': '55', 'community_name': 'Hegewisch'},\n",
       " {'area_code': '56', 'community_name': 'Garfield Ridge'},\n",
       " {'area_code': '57', 'community_name': 'Archer Heights'},\n",
       " {'area_code': '58', 'community_name': 'Brighton Park'},\n",
       " {'area_code': '59', 'community_name': 'McKinley Park'},\n",
       " {'area_code': '60', 'community_name': 'Bridgeport'},\n",
       " {'area_code': '61', 'community_name': 'New City'},\n",
       " {'area_code': '62', 'community_name': 'West Elsdon'},\n",
       " {'area_code': '63', 'community_name': 'Gage Park'},\n",
       " {'area_code': '64', 'community_name': 'Clearing'},\n",
       " {'area_code': '65', 'community_name': 'West Lawn'},\n",
       " {'area_code': '66', 'community_name': 'Chicago Lawn'},\n",
       " {'area_code': '67', 'community_name': 'West Englewood'},\n",
       " {'area_code': '68', 'community_name': 'Englewood'},\n",
       " {'area_code': '69', 'community_name': 'Greater Grand Crossing'},\n",
       " {'area_code': '70', 'community_name': 'Ashburn'},\n",
       " {'area_code': '71', 'community_name': 'Auburn Gresham'},\n",
       " {'area_code': '72', 'community_name': 'Beverly'},\n",
       " {'area_code': '73', 'community_name': 'Washington Heights'},\n",
       " {'area_code': '74', 'community_name': 'Mount Greenwood'},\n",
       " {'area_code': '75', 'community_name': 'Morgan Park'},\n",
       " {'area_code': '76', 'community_name': \"O'Hare\"},\n",
       " {'area_code': '77', 'community_name': 'Edgewater'}]"
      ]
     },
     "execution_count": 25,
     "metadata": {},
     "output_type": "execute_result"
    }
   ],
   "source": [
    "data = []\n",
    "\n",
    "for row in table.tbody.find_all(\"tr\")[2: -1]:\n",
    "    cells = row.find_all(\"td\")\n",
    "    header_cell = row.find(\"th\")\n",
    "\n",
    "    area_code = cells[0].get_text(strip = True)\n",
    "    community_name = header_cell.a.get_text(strip = True)\n",
    "    #print (area_code, community_name)\n",
    "\n",
    "    data.append ({\"area_code\": area_code, \"community_name\": community_name})\n",
    "\n",
    "data"
   ]
  },
  {
   "cell_type": "code",
   "execution_count": 26,
   "metadata": {},
   "outputs": [
    {
     "data": {
      "text/html": [
       "<div>\n",
       "<style scoped>\n",
       "    .dataframe tbody tr th:only-of-type {\n",
       "        vertical-align: middle;\n",
       "    }\n",
       "\n",
       "    .dataframe tbody tr th {\n",
       "        vertical-align: top;\n",
       "    }\n",
       "\n",
       "    .dataframe thead th {\n",
       "        text-align: right;\n",
       "    }\n",
       "</style>\n",
       "<table border=\"1\" class=\"dataframe\">\n",
       "  <thead>\n",
       "    <tr style=\"text-align: right;\">\n",
       "      <th></th>\n",
       "      <th>area_code</th>\n",
       "      <th>community_name</th>\n",
       "    </tr>\n",
       "  </thead>\n",
       "  <tbody>\n",
       "    <tr>\n",
       "      <th>0</th>\n",
       "      <td>1</td>\n",
       "      <td>Rogers Park</td>\n",
       "    </tr>\n",
       "    <tr>\n",
       "      <th>1</th>\n",
       "      <td>2</td>\n",
       "      <td>West Ridge</td>\n",
       "    </tr>\n",
       "    <tr>\n",
       "      <th>2</th>\n",
       "      <td>3</td>\n",
       "      <td>Uptown</td>\n",
       "    </tr>\n",
       "    <tr>\n",
       "      <th>3</th>\n",
       "      <td>4</td>\n",
       "      <td>Lincoln Square</td>\n",
       "    </tr>\n",
       "    <tr>\n",
       "      <th>4</th>\n",
       "      <td>5</td>\n",
       "      <td>North Center</td>\n",
       "    </tr>\n",
       "    <tr>\n",
       "      <th>...</th>\n",
       "      <td>...</td>\n",
       "      <td>...</td>\n",
       "    </tr>\n",
       "    <tr>\n",
       "      <th>72</th>\n",
       "      <td>73</td>\n",
       "      <td>Washington Heights</td>\n",
       "    </tr>\n",
       "    <tr>\n",
       "      <th>73</th>\n",
       "      <td>74</td>\n",
       "      <td>Mount Greenwood</td>\n",
       "    </tr>\n",
       "    <tr>\n",
       "      <th>74</th>\n",
       "      <td>75</td>\n",
       "      <td>Morgan Park</td>\n",
       "    </tr>\n",
       "    <tr>\n",
       "      <th>75</th>\n",
       "      <td>76</td>\n",
       "      <td>O'Hare</td>\n",
       "    </tr>\n",
       "    <tr>\n",
       "      <th>76</th>\n",
       "      <td>77</td>\n",
       "      <td>Edgewater</td>\n",
       "    </tr>\n",
       "  </tbody>\n",
       "</table>\n",
       "<p>77 rows × 2 columns</p>\n",
       "</div>"
      ],
      "text/plain": [
       "    area_code      community_name\n",
       "0           1         Rogers Park\n",
       "1           2          West Ridge\n",
       "2           3              Uptown\n",
       "3           4      Lincoln Square\n",
       "4           5        North Center\n",
       "..        ...                 ...\n",
       "72         73  Washington Heights\n",
       "73         74     Mount Greenwood\n",
       "74         75         Morgan Park\n",
       "75         76              O'Hare\n",
       "76         77           Edgewater\n",
       "\n",
       "[77 rows x 2 columns]"
      ]
     },
     "execution_count": 26,
     "metadata": {},
     "output_type": "execute_result"
    }
   ],
   "source": [
    "community_areas = pd.DataFrame(data)\n",
    "\n",
    "community_areas[\"area_code\"] = community_areas[\"area_code\"].astype(\"int\")\n",
    "\n",
    "community_areas "
   ]
  },
  {
   "cell_type": "code",
   "execution_count": 27,
   "metadata": {},
   "outputs": [
    {
     "name": "stdout",
     "output_type": "stream",
     "text": [
      "<class 'pandas.core.frame.DataFrame'>\n",
      "RangeIndex: 77 entries, 0 to 76\n",
      "Data columns (total 2 columns):\n",
      " #   Column          Non-Null Count  Dtype \n",
      "---  ------          --------------  ----- \n",
      " 0   area_code       77 non-null     int32 \n",
      " 1   community_name  77 non-null     object\n",
      "dtypes: int32(1), object(1)\n",
      "memory usage: 1.0+ KB\n"
     ]
    }
   ],
   "source": [
    "community_areas.info()"
   ]
  },
  {
   "cell_type": "code",
   "execution_count": 29,
   "metadata": {},
   "outputs": [],
   "source": [
    "community_areas.to_csv(\"./../../data/csv/community_areas_master.csv\", index = False)"
   ]
  }
 ],
 "metadata": {
  "kernelspec": {
   "display_name": "base",
   "language": "python",
   "name": "python3"
  },
  "language_info": {
   "codemirror_mode": {
    "name": "ipython",
    "version": 3
   },
   "file_extension": ".py",
   "mimetype": "text/x-python",
   "name": "python",
   "nbconvert_exporter": "python",
   "pygments_lexer": "ipython3",
   "version": "3.11.7"
  }
 },
 "nbformat": 4,
 "nbformat_minor": 2
}
