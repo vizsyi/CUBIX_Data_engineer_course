{
 "cells": [
  {
   "cell_type": "code",
   "execution_count": null,
   "metadata": {},
   "outputs": [],
   "source": [
    "from datetime import datetime\n",
    "from dateutil.relativedelta import relativedelta\n",
    "#import json\n",
    "import os\n",
    "\n",
    "import pandas as pd\n",
    "import requests"
   ]
  },
  {
   "cell_type": "code",
   "execution_count": null,
   "metadata": {},
   "outputs": [],
   "source": [
    "#url = \"https://data.cityofchicago.org/resource/wrvz-psew.json?trip_id=00000019ef3c0b419a9e6b1843b83530b79627a4\"\n",
    "url = \"https://data.cityofchicago.org/resource/ajtu-isnz.json?trip_id=00000a980db3a3a9295d53b26bbd72200a9ce92b\"\n",
    "\n",
    "response = requests.get(url)\n",
    "response"
   ]
  },
  {
   "cell_type": "code",
   "execution_count": null,
   "metadata": {},
   "outputs": [],
   "source": [
    "%run utilities/U01_current_formated_datatime.ipynb\n",
    "\n",
    "#url = f\"https://data.cityofchicago.org/resource/ajtu-isnz.json?$where=trip_start_timestamp>='{formated_datetime}T00:00:00' AND trip_start_timestamp<='{formated_datetime}T23:59:59'&$limit=30000\"\n",
    "#url = \"https://data.cityofchicago.org/resource/wrvz-psew.json\"\n",
    "url = \"https://data.cityofchicago.org/resource/ajtu-isnz.json\"\n",
    "\n",
    "params = f\"$where=trip_start_timestamp>='{formated_datetime}T00:00:00' AND trip_start_timestamp<='{formated_datetime}T23:59:59'&$limit=30000\"\n",
    "\n",
    "headers = {\"X-App-Token\": os.environ.get(\"CHICAGO_API_TOKEN\")}\n",
    "\n",
    "response = requests.get(url, headers = headers, params = params)\n",
    "\n",
    "response"
   ]
  },
  {
   "cell_type": "code",
   "execution_count": null,
   "metadata": {},
   "outputs": [],
   "source": [
    "data = response.json()\n",
    "\n",
    "len(data)"
   ]
  },
  {
   "cell_type": "code",
   "execution_count": null,
   "metadata": {},
   "outputs": [],
   "source": [
    "data"
   ]
  }
 ],
 "metadata": {
  "kernelspec": {
   "display_name": "base",
   "language": "python",
   "name": "python3"
  },
  "language_info": {
   "codemirror_mode": {
    "name": "ipython",
    "version": 3
   },
   "file_extension": ".py",
   "mimetype": "text/x-python",
   "name": "python",
   "nbconvert_exporter": "python",
   "pygments_lexer": "ipython3",
   "version": "3.11.7"
  }
 },
 "nbformat": 4,
 "nbformat_minor": 2
}
