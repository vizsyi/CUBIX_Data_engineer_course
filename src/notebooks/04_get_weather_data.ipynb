{
 "cells": [
  {
   "cell_type": "code",
   "execution_count": null,
   "metadata": {},
   "outputs": [],
   "source": [
    "from datetime import datetime\n",
    "from dateutil.relativedelta import relativedelta\n",
    "\n",
    "import pandas as pd\n",
    "import requests"
   ]
  },
  {
   "cell_type": "code",
   "execution_count": null,
   "metadata": {},
   "outputs": [],
   "source": [
    "# Extract part\n",
    "%run utilities/U01_current_formated_datatime.ipynb\n",
    "\n",
    "#url = \"https://api.open-meteo.com/v1/forecast\"\n",
    "#url = \"https://archive-api.open-meteo.com/v1/archive\"\n",
    "url = \"https://archive-api.open-meteo.com/v1/era5\"\n",
    "\n",
    "params = {\n",
    "    \"latitude\": 41.85,\n",
    "    \"longitude\": -87.65,\n",
    "    \"start_date\": formated_datetime,\n",
    "    \"end_date\": formated_datetime,\n",
    "    \"hourly\": \"temperature_2m,wind_speed_10m,rain,precipitation\"\n",
    "}\n",
    "\n",
    "response = requests.get(url, params = params)\n",
    "\n",
    "response"
   ]
  },
  {
   "cell_type": "code",
   "execution_count": null,
   "metadata": {},
   "outputs": [],
   "source": [
    "weather_data = response.json()\n",
    "\n",
    "weather_data[\"hourly\"]"
   ]
  },
  {
   "cell_type": "code",
   "execution_count": null,
   "metadata": {},
   "outputs": [],
   "source": [
    "# Transform part\n",
    "\n",
    "weather_df = pd.DataFrame(weather_data['hourly'])\n",
    "\n",
    "weather_df['time'] = pd.to_datetime(weather_df['time'])\n",
    "\n",
    "## header dictionary\n",
    "oldheader_list = ['time', 'temperature_2m', 'wind_speed_10m']\n",
    "newheader_list = ['datetime', 'temperature', 'wind_speed']\n",
    "header_dict = dict(zip(oldheader_list, newheader_list))\n",
    "\n",
    "# translate headers based on dictionary\n",
    "weather_df.columns = pd.Series(weather_df.columns).replace(header_dict)\n",
    "\n",
    "weather_df"
   ]
  },
  {
   "cell_type": "code",
   "execution_count": null,
   "metadata": {},
   "outputs": [],
   "source": [
    "weather_df.to_csv(\"../../data/csv/wether_data_date.csv\", index=False)"
   ]
  }
 ],
 "metadata": {
  "kernelspec": {
   "display_name": "base",
   "language": "python",
   "name": "python3"
  },
  "language_info": {
   "codemirror_mode": {
    "name": "ipython",
    "version": 3
   },
   "file_extension": ".py",
   "mimetype": "text/x-python",
   "name": "python",
   "nbconvert_exporter": "python",
   "pygments_lexer": "ipython3",
   "version": "3.11.7"
  }
 },
 "nbformat": 4,
 "nbformat_minor": 2
}
