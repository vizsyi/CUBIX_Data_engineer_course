{
 "cells": [
  {
   "cell_type": "code",
   "execution_count": null,
   "metadata": {},
   "outputs": [],
   "source": [
    "from datetime import datetime\n",
    "\n",
    "import pandas as pd\n"
   ]
  },
  {
   "cell_type": "code",
   "execution_count": null,
   "metadata": {},
   "outputs": [],
   "source": [
    "start_date = datetime(2023, 1, 1)\n",
    "end_date = datetime(2028, 1, 1)\n",
    "\n",
    "date_range = pd.date_range(start_date, end_date)\n",
    "\n",
    "date_df = pd.DataFrame(date_range, columns=[\"date\"])"
   ]
  },
  {
   "cell_type": "code",
   "execution_count": null,
   "metadata": {},
   "outputs": [],
   "source": [
    "date_df[\"year\"] = date_df[\"date\"].dt.year\n",
    "date_df[\"month\"] = date_df[\"date\"].dt.month\n",
    "date_df[\"day\"] = date_df[\"date\"].dt.day\n",
    "date_df[\"day_of_week\"] = date_df[\"date\"].dt.dayofweek + 1\n",
    "date_df[\"is_weekend\"] = date_df[\"day_of_week\"].isin([6, 7])"
   ]
  },
  {
   "cell_type": "code",
   "execution_count": null,
   "metadata": {},
   "outputs": [],
   "source": [
    "date_df"
   ]
  },
  {
   "cell_type": "code",
   "execution_count": null,
   "metadata": {},
   "outputs": [],
   "source": [
    "date_df.to_csv(\"../../data/csv/date_dimension.csv\", index=False)"
   ]
  }
 ],
 "metadata": {
  "kernelspec": {
   "display_name": "base",
   "language": "python",
   "name": "python3"
  },
  "language_info": {
   "codemirror_mode": {
    "name": "ipython",
    "version": 3
   },
   "file_extension": ".py",
   "mimetype": "text/x-python",
   "name": "python",
   "nbconvert_exporter": "python",
   "pygments_lexer": "ipython3",
   "version": "3.11.7"
  }
 },
 "nbformat": 4,
 "nbformat_minor": 2
}
