{
 "cells": [
  {
   "cell_type": "code",
   "execution_count": null,
   "metadata": {},
   "outputs": [],
   "source": [
    "from datetime import datetime\n",
    "from dateutil.relativedelta import relativedelta\n",
    "#import json\n",
    "import os\n",
    "\n",
    "import pandas as pd\n",
    "pd.set_option(\"display.max_columns\", 30)\n",
    "import requests"
   ]
  },
  {
   "cell_type": "code",
   "execution_count": null,
   "metadata": {},
   "outputs": [],
   "source": [
    "# Extract T - 2 months' data\n",
    "%run utilities/U01_current_formated_datatime.ipynb\n",
    "\n",
    "#url = f\"https://data.cityofchicago.org/resource/ajtu-isnz.json?$where=trip_start_timestamp>='{formated_datetime}T00:00:00' AND trip_start_timestamp<='{formated_datetime}T23:59:59'&$limit=300\"\n",
    "url = \"https://data.cityofchicago.org/resource/ajtu-isnz.json\"\n",
    "\n",
    "params = f\"$where=trip_start_timestamp>='{formated_datetime}T00:00:00' AND trip_start_timestamp<='{formated_datetime}T23:59:59'&$limit=30000\"\n",
    "\n",
    "headers = {\"X-App-Token\": os.environ.get(\"CHICAGO_API_TOKEN\")}\n",
    "\n",
    "response = requests.get(url, headers = headers, params = params)\n",
    "\n",
    "response"
   ]
  },
  {
   "cell_type": "code",
   "execution_count": null,
   "metadata": {},
   "outputs": [],
   "source": [
    "data = response.json()\n",
    "len(data)"
   ]
  },
  {
   "cell_type": "code",
   "execution_count": null,
   "metadata": {},
   "outputs": [],
   "source": [
    "taxi_trips = pd.DataFrame(data)\n",
    "taxi_trips.head()"
   ]
  },
  {
   "cell_type": "code",
   "execution_count": null,
   "metadata": {},
   "outputs": [],
   "source": [
    "#taxi_trips.head()\n",
    "taxi_trips.info()"
   ]
  },
  {
   "cell_type": "code",
   "execution_count": null,
   "metadata": {},
   "outputs": [],
   "source": [
    "\n",
    "taxi_trips.describe()"
   ]
  },
  {
   "cell_type": "markdown",
   "metadata": {},
   "source": [
    "### Transformation: deal with NaN values"
   ]
  },
  {
   "cell_type": "code",
   "execution_count": null,
   "metadata": {},
   "outputs": [],
   "source": [
    "taxi_trips[taxi_trips[\"fare\"].isna()].sample(5)"
   ]
  },
  {
   "cell_type": "code",
   "execution_count": null,
   "metadata": {},
   "outputs": [],
   "source": [
    "taxi_trips.drop([\"pickup_census_tract\", \"dropoff_census_tract\"], axis=1, inplace=True)\n",
    "taxi_trips.drop([\"pickup_centroid_location\", \"dropoff_centroid_location\"], axis=1, inplace=True)"
   ]
  },
  {
   "cell_type": "code",
   "execution_count": null,
   "metadata": {},
   "outputs": [],
   "source": [
    "taxi_trips.dropna(inplace=True)"
   ]
  },
  {
   "cell_type": "code",
   "execution_count": null,
   "metadata": {},
   "outputs": [],
   "source": [
    "taxi_trips.info()"
   ]
  },
  {
   "cell_type": "markdown",
   "metadata": {},
   "source": [
    "### Transformation: renaming"
   ]
  },
  {
   "cell_type": "code",
   "execution_count": null,
   "metadata": {},
   "outputs": [],
   "source": [
    "taxi_trips.rename(columns={\"pickup_community_area\": \"pickup_community_area_id\",\n",
    "                           \"dropoff_community_area\": \"dropoff_community_area_id\"}, inplace=True)"
   ]
  },
  {
   "cell_type": "code",
   "execution_count": null,
   "metadata": {},
   "outputs": [],
   "source": [
    "taxi_trips.columns"
   ]
  },
  {
   "cell_type": "markdown",
   "metadata": {},
   "source": [
    "### Transformation: create helper column for weather"
   ]
  },
  {
   "cell_type": "code",
   "execution_count": null,
   "metadata": {},
   "outputs": [],
   "source": [
    "taxi_trips[\"trip_start_timestamp\"] = pd.to_datetime(taxi_trips[\"trip_start_timestamp\"])\n",
    "taxi_trips[\"trip_end_timestamp\"] = pd.to_datetime(taxi_trips[\"trip_end_timestamp\"])"
   ]
  },
  {
   "cell_type": "code",
   "execution_count": null,
   "metadata": {},
   "outputs": [],
   "source": [
    "taxi_trips[\"datetime_for_weather\"] = taxi_trips[\"trip_start_timestamp\"].dt.floor(\"H\")"
   ]
  },
  {
   "cell_type": "code",
   "execution_count": null,
   "metadata": {},
   "outputs": [],
   "source": [
    "taxi_trips.info()"
   ]
  },
  {
   "cell_type": "markdown",
   "metadata": {},
   "source": [
    "### Check joining the trips and the weather data"
   ]
  },
  {
   "cell_type": "code",
   "execution_count": null,
   "metadata": {},
   "outputs": [],
   "source": [
    "# Get weather data: Extract part\n",
    "\n",
    "url = \"https://archive-api.open-meteo.com/v1/era5\"\n",
    "\n",
    "params = {\n",
    "    \"latitude\": 41.85,\n",
    "    \"longitude\": -87.65,\n",
    "    \"start_date\": formated_datetime,\n",
    "    \"end_date\": formated_datetime,\n",
    "    \"hourly\": \"temperature_2m,wind_speed_10m,rain,precipitation\"\n",
    "}\n",
    "\n",
    "response = requests.get(url, params = params)\n",
    "\n",
    "weather_data = response.json()\n",
    "\n",
    "weather_data[\"hourly\"]"
   ]
  },
  {
   "cell_type": "code",
   "execution_count": null,
   "metadata": {},
   "outputs": [],
   "source": [
    "# Get weather data: Transform part\n",
    "\n",
    "weather_df = pd.DataFrame(weather_data['hourly'])\n",
    "\n",
    "weather_df['time'] = pd.to_datetime(weather_df['time'])\n",
    "\n",
    "# translate headers based on dictionary\n",
    "header_dict = {'time': 'datetime',\n",
    "    'temperature_2m': 'temperature',\n",
    "    'wind_speed_10m': 'wind_speed'}\n",
    "weather_df.columns = pd.Series(weather_df.columns).replace(header_dict)\n",
    "\n",
    "weather_df"
   ]
  },
  {
   "cell_type": "code",
   "execution_count": null,
   "metadata": {},
   "outputs": [],
   "source": [
    "taxi_trips_with_weather = taxi_trips.merge(weather_df, left_on=\"datetime_for_weather\", right_on=\"datetime\")"
   ]
  },
  {
   "cell_type": "code",
   "execution_count": null,
   "metadata": {},
   "outputs": [],
   "source": [
    "taxi_trips_with_weather.head()"
   ]
  },
  {
   "cell_type": "markdown",
   "metadata": {},
   "source": [
    "### Transformation: Data type conversions"
   ]
  },
  {
   "cell_type": "code",
   "execution_count": null,
   "metadata": {},
   "outputs": [],
   "source": [
    "taxi_trips.info()"
   ]
  },
  {
   "cell_type": "code",
   "execution_count": null,
   "metadata": {},
   "outputs": [],
   "source": [
    "taxi_trips.head(1)"
   ]
  },
  {
   "cell_type": "code",
   "execution_count": null,
   "metadata": {},
   "outputs": [],
   "source": [
    "data_types = {\n",
    "    \"trip_start_timestamp\": \"datetime64[ns]\",\n",
    "    \"trip_end_timestamp\": \"datetime64[ns]\",\n",
    "    \"trip_seconds\": \"int32\",\n",
    "    \"trip_miles\": \"float\",\n",
    "    \"pickup_community_area_id\": \"int8\",\n",
    "    \"dropoff_community_area_id\": \"int8\",\n",
    "    \"fare\": \"float\",\n",
    "    \"tips\": \"float\",\n",
    "    \"tolls\": \"float\",\n",
    "    \"extras\": \"float\",\n",
    "    \"trip_total\": \"float\",\n",
    "    \"pickup_centroid_latitude\": \"float\",\n",
    "    \"pickup_centroid_longitude\": \"float\",\n",
    "    \"dropoff_centroid_latitude\": \"float\",\n",
    "    \"dropoff_centroid_longitude\": \"float\"\n",
    "}\n",
    "\n",
    "taxi_trips = taxi_trips.astype(data_types)"
   ]
  },
  {
   "cell_type": "markdown",
   "metadata": {},
   "source": [
    "### Memory usage"
   ]
  },
  {
   "cell_type": "code",
   "execution_count": null,
   "metadata": {},
   "outputs": [],
   "source": [
    "taxi_trips.memory_usage(deep=True).sum()"
   ]
  },
  {
   "cell_type": "markdown",
   "metadata": {},
   "source": [
    "### Sanity checks"
   ]
  },
  {
   "cell_type": "code",
   "execution_count": null,
   "metadata": {},
   "outputs": [],
   "source": [
    "taxi_trips.describe()"
   ]
  },
  {
   "cell_type": "code",
   "execution_count": null,
   "metadata": {},
   "outputs": [],
   "source": [
    "taxi_trips[\"trip_end_timestamp\"].max()"
   ]
  },
  {
   "cell_type": "code",
   "execution_count": null,
   "metadata": {},
   "outputs": [],
   "source": [
    "taxi_trips[taxi_trips[\"trip_end_timestamp\"] == taxi_trips[\"trip_end_timestamp\"].max()]"
   ]
  },
  {
   "cell_type": "code",
   "execution_count": null,
   "metadata": {},
   "outputs": [],
   "source": [
    "taxi_trips[taxi_trips[\"trip_seconds\"] == taxi_trips[\"trip_seconds\"].max()]"
   ]
  },
  {
   "cell_type": "code",
   "execution_count": null,
   "metadata": {},
   "outputs": [],
   "source": [
    "taxi_trips[taxi_trips[\"fare\"] == taxi_trips[\"fare\"].max()]"
   ]
  },
  {
   "cell_type": "code",
   "execution_count": null,
   "metadata": {},
   "outputs": [],
   "source": [
    "taxi_trips.nlargest(10, \"fare\")"
   ]
  },
  {
   "cell_type": "code",
   "execution_count": null,
   "metadata": {},
   "outputs": [],
   "source": [
    "taxi_trips.shape"
   ]
  },
  {
   "cell_type": "markdown",
   "metadata": {},
   "source": [
    "### Data Modeling"
   ]
  },
  {
   "cell_type": "code",
   "execution_count": null,
   "metadata": {},
   "outputs": [],
   "source": [
    "payment_type_master = taxi_trips[\"payment_type\"].drop_duplicates().reset_index(drop = True)\n",
    "\n",
    "payment_type_master = pd.DataFrame(\n",
    "    {\n",
    "        \"payment_type_id\": range(1, len(payment_type_master) + 1),\n",
    "        \"payment_type\": payment_type_master\n",
    "    }\n",
    ")\n",
    "\n",
    "payment_type_master"
   ]
  },
  {
   "cell_type": "code",
   "execution_count": null,
   "metadata": {},
   "outputs": [],
   "source": [
    "company_master = taxi_trips[\"company\"].drop_duplicates().reset_index(drop = True)\n",
    "\n",
    "company_master = pd.DataFrame(\n",
    "    {\n",
    "        \"company_id\": range(1, len(company_master) + 1),\n",
    "        \"company\": company_master\n",
    "    }\n",
    ")\n",
    "\n",
    "company_master"
   ]
  },
  {
   "cell_type": "code",
   "execution_count": null,
   "metadata": {},
   "outputs": [],
   "source": [
    "company_master.shape\n",
    "company_master"
   ]
  },
  {
   "cell_type": "code",
   "execution_count": null,
   "metadata": {},
   "outputs": [],
   "source": [
    "new_company_data = [\n",
    "    {\"company\": \"312 Medallion Management Corp\"},\n",
    "    {\"company\": \"6574 - Babylon Express Inc.\"},\n",
    "    {\"company\": \"XXX\"},\n",
    "    {\"company\": \"XY\"}\n",
    "]\n",
    "\n",
    "new_company_mapping = pd.DataFrame(new_company_data)"
   ]
  },
  {
   "cell_type": "code",
   "execution_count": null,
   "metadata": {},
   "outputs": [],
   "source": [
    "company_max_id = company_master[\"company_id\"].max()\n",
    "company_max_id"
   ]
  },
  {
   "cell_type": "code",
   "execution_count": null,
   "metadata": {},
   "outputs": [],
   "source": [
    "new_company_mapping[\"company_id\"] = range(company_max_id + 1, company_max_id + len(new_company_mapping) + 1)\n",
    "new_company_mapping"
   ]
  },
  {
   "cell_type": "code",
   "execution_count": null,
   "metadata": {},
   "outputs": [],
   "source": [
    "new_companies = new_company_mapping[~new_company_mapping[\"company\"].isin(company_master[\"company\"])]\n",
    "new_companies"
   ]
  },
  {
   "cell_type": "code",
   "execution_count": null,
   "metadata": {},
   "outputs": [],
   "source": [
    "taxi_trips_id = taxi_trips.merge(payment_type_master, on=\"payment_type\")\n",
    "taxi_trips_id = taxi_trips_id.merge(company_master, on=\"company\")"
   ]
  },
  {
   "cell_type": "code",
   "execution_count": null,
   "metadata": {},
   "outputs": [],
   "source": [
    "taxi_trips_id.head()"
   ]
  },
  {
   "cell_type": "code",
   "execution_count": null,
   "metadata": {},
   "outputs": [],
   "source": [
    "taxi_trips_id.drop([\"payment_type\", \"company\"], axis = 1, inplace = True)"
   ]
  },
  {
   "cell_type": "code",
   "execution_count": null,
   "metadata": {},
   "outputs": [],
   "source": [
    "print(taxi_trips.memory_usage(deep=True).sum())\n",
    "print(taxi_trips_id.memory_usage(deep=True).sum())"
   ]
  },
  {
   "cell_type": "code",
   "execution_count": null,
   "metadata": {},
   "outputs": [],
   "source": [
    "payment_type_master.to_csv(\"../../data/csv/payment_type.csv\", index=False)\n",
    "company_master.to_csv(\"../../data/csv/company.csv\", index=False)"
   ]
  }
 ],
 "metadata": {
  "kernelspec": {
   "display_name": "base",
   "language": "python",
   "name": "python3"
  },
  "language_info": {
   "codemirror_mode": {
    "name": "ipython",
    "version": 3
   },
   "file_extension": ".py",
   "mimetype": "text/x-python",
   "name": "python",
   "nbconvert_exporter": "python",
   "pygments_lexer": "ipython3",
   "version": "3.11.7"
  }
 },
 "nbformat": 4,
 "nbformat_minor": 2
}
