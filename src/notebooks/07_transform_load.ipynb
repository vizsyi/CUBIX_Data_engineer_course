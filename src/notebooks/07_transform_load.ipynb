{
 "cells": [
  {
   "cell_type": "code",
   "execution_count": null,
   "metadata": {},
   "outputs": [],
   "source": [
    "from datetime import datetime\n",
    "from dateutil.relativedelta import relativedelta\n",
    "#import json\n",
    "import os\n",
    "\n",
    "import pandas as pd\n",
    "pd.set_option(\"display.max_columns\", 30)\n",
    "import requests"
   ]
  },
  {
   "cell_type": "code",
   "execution_count": null,
   "metadata": {},
   "outputs": [],
   "source": [
    "#\n",
    "def formated_day_back(days: int):\n",
    "    current_datetime = datetime.now() - relativedelta(days=days)\n",
    "    return current_datetime.strftime(\"%Y-%m-%d\")"
   ]
  },
  {
   "cell_type": "code",
   "execution_count": null,
   "metadata": {},
   "outputs": [],
   "source": [
    "\"\"\"\n",
    "1. get the data from s3\n",
    "2. weather data transformation\n",
    "3. taxi trips transformation\n",
    "4. update payment_type_master\n",
    "5. update company_master\n",
    "6. update taxi trips with company and payment_type ids (from master tables)\n",
    "7. upload the newest payment_type_master and company_master\n",
    "8. upload weather data to s3\n",
    "9. upload taxi data to s3\n",
    "\"\"\""
   ]
  },
  {
   "cell_type": "markdown",
   "metadata": {},
   "source": [
    "### Taxi trips transformation"
   ]
  },
  {
   "cell_type": "code",
   "execution_count": null,
   "metadata": {},
   "outputs": [],
   "source": [
    "formated_datetime = formated_day_back(60)\n",
    "\n",
    "url = \"https://data.cityofchicago.org/resource/ajtu-isnz.json\"\n",
    "params = f\"$where=trip_start_timestamp>='{formated_datetime}T00:00:00' AND trip_start_timestamp<='{formated_datetime}T23:59:59'&$limit=30000\"\n",
    "headers = {\"X-App-Token\": os.environ.get(\"CHICAGO_API_TOKEN\")}\n",
    "\n",
    "response = requests.get(url, headers = headers, params = params)\n",
    "\n",
    "data = response.json()"
   ]
  },
  {
   "cell_type": "code",
   "execution_count": null,
   "metadata": {},
   "outputs": [],
   "source": [
    "taxi_trips = pd.DataFrame(data)"
   ]
  },
  {
   "cell_type": "markdown",
   "metadata": {},
   "source": [
    "#### taxi_trips transformation function"
   ]
  },
  {
   "cell_type": "code",
   "execution_count": null,
   "metadata": {},
   "outputs": [],
   "source": [
    "def taxi_trips_transformations(taxi_trips: pd.DataFrame) -> pd.DataFrame:\n",
    "    \n",
    "    \"\"\" Performs transformations on a DataFrame containing taxi trip data.\n",
    "\n",
    "    Parameters:\n",
    "        taxi_trips (pd.DataFrame): A DataFrame containing taxi trip data.\n",
    "\n",
    "    Returns:\n",
    "        pd.DataFrame: The cleaned, transformed DataFrame.\n",
    "    \"\"\"\n",
    "\n",
    "    if not isinstance(taxi_trips, pd.DataFrame):\n",
    "        raise TypeError(\"taxi_trips is not a valid pandas Dataframe.\")\n",
    "    \n",
    "    taxi_trips.drop([\"pickup_census_tract\", \"dropoff_census_tract\", \"pickup_centroid_location\", \"dropoff_centroid_location\"],\n",
    "                    axis=1, inplace=True)\n",
    "\n",
    "    taxi_trips.dropna(inplace=True)\n",
    "\n",
    "    taxi_trips.rename(columns={\"pickup_community_area\": \"pickup_community_area_id\",\n",
    "                            \"dropoff_community_area\": \"dropoff_community_area_id\"}, inplace=True)\n",
    "\n",
    "    taxi_trips[\"trip_start_timestamp\"] = pd.to_datetime(taxi_trips[\"trip_start_timestamp\"])\n",
    "    taxi_trips[\"trip_end_timestamp\"] = pd.to_datetime(taxi_trips[\"trip_end_timestamp\"])\n",
    "\n",
    "    taxi_trips[\"datetime_for_weather\"] = taxi_trips[\"trip_start_timestamp\"].dt.floor(\"H\")\n",
    "\n",
    "    return taxi_trips"
   ]
  },
  {
   "cell_type": "code",
   "execution_count": null,
   "metadata": {},
   "outputs": [],
   "source": [
    "taxi_trips_transformations(taxi_trips)"
   ]
  }
 ],
 "metadata": {
  "kernelspec": {
   "display_name": "base",
   "language": "python",
   "name": "python3"
  },
  "language_info": {
   "codemirror_mode": {
    "name": "ipython",
    "version": 3
   },
   "file_extension": ".py",
   "mimetype": "text/x-python",
   "name": "python",
   "nbconvert_exporter": "python",
   "pygments_lexer": "ipython3",
   "version": "3.11.7"
  }
 },
 "nbformat": 4,
 "nbformat_minor": 2
}
