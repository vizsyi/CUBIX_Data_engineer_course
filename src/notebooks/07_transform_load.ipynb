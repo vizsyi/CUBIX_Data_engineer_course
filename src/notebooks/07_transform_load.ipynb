{
 "cells": [
  {
   "cell_type": "code",
   "execution_count": null,
   "metadata": {},
   "outputs": [],
   "source": [
    "from datetime import datetime\n",
    "from dateutil.relativedelta import relativedelta\n",
    "import json\n",
    "import os\n",
    "\n",
    "import pandas as pd\n",
    "pd.set_option(\"display.max_columns\", 30)\n",
    "import requests"
   ]
  },
  {
   "cell_type": "code",
   "execution_count": null,
   "metadata": {},
   "outputs": [],
   "source": [
    "#\n",
    "def formated_day_back(days: int):\n",
    "    current_datetime = datetime.now() - relativedelta(days=days)\n",
    "    return current_datetime.strftime(\"%Y-%m-%d\")"
   ]
  },
  {
   "cell_type": "code",
   "execution_count": null,
   "metadata": {},
   "outputs": [],
   "source": [
    "\"\"\"\n",
    "1. get the data from s3\n",
    "2. weather data transformation\n",
    "3. taxi trips transformation\n",
    "4. update payment_type_master\n",
    "5. update company_master\n",
    "6. update taxi trips with company and payment_type ids (from master tables)\n",
    "7. upload the newest payment_type_master and company_master\n",
    "8. upload weather data to s3\n",
    "9. upload taxi data to s3\n",
    "\"\"\""
   ]
  },
  {
   "cell_type": "markdown",
   "metadata": {},
   "source": [
    "### Taxi trips transformation"
   ]
  },
  {
   "cell_type": "code",
   "execution_count": null,
   "metadata": {},
   "outputs": [],
   "source": [
    "formated_datetime = formated_day_back(60)\n",
    "\n",
    "url = \"https://data.cityofchicago.org/resource/ajtu-isnz.json\"\n",
    "params = f\"$where=trip_start_timestamp>='{formated_datetime}T00:00:00' AND trip_start_timestamp<='{formated_datetime}T23:59:59'&$limit=30000\"\n",
    "headers = {\"X-App-Token\": os.environ.get(\"CHICAGO_API_TOKEN\")}\n",
    "\n",
    "response = requests.get(url, headers = headers, params = params)\n",
    "\n",
    "data = response.json()"
   ]
  },
  {
   "cell_type": "code",
   "execution_count": null,
   "metadata": {},
   "outputs": [],
   "source": [
    "taxi_trips = pd.DataFrame(data)"
   ]
  },
  {
   "cell_type": "markdown",
   "metadata": {},
   "source": [
    "#### taxi_trips transformation function"
   ]
  },
  {
   "cell_type": "code",
   "execution_count": null,
   "metadata": {},
   "outputs": [],
   "source": [
    "def taxi_trips_transformations(taxi_trips: pd.DataFrame) -> pd.DataFrame:\n",
    "    \n",
    "    \"\"\" Performs transformations on a DataFrame containing taxi trip data.\n",
    "\n",
    "    Parameters:\n",
    "        taxi_trips (pd.DataFrame): A DataFrame containing taxi trip data.\n",
    "\n",
    "    Returns:\n",
    "        pd.DataFrame: The cleaned, transformed DataFrame.\n",
    "    \"\"\"\n",
    "\n",
    "    if not isinstance(taxi_trips, pd.DataFrame):\n",
    "        raise TypeError(\"taxi_trips is not a valid pandas Dataframe.\")\n",
    "    \n",
    "    taxi_trips.drop([\"pickup_census_tract\", \"dropoff_census_tract\", \"pickup_centroid_location\", \"dropoff_centroid_location\"],\n",
    "                    axis=1, inplace=True)\n",
    "\n",
    "    taxi_trips.dropna(inplace=True)\n",
    "\n",
    "    taxi_trips.rename(columns={\"pickup_community_area\": \"pickup_community_area_id\",\n",
    "                            \"dropoff_community_area\": \"dropoff_community_area_id\"}, inplace=True)\n",
    "\n",
    "    taxi_trips[\"trip_start_timestamp\"] = pd.to_datetime(taxi_trips[\"trip_start_timestamp\"])\n",
    "    taxi_trips[\"trip_end_timestamp\"] = pd.to_datetime(taxi_trips[\"trip_end_timestamp\"])\n",
    "\n",
    "    taxi_trips[\"datetime_for_weather\"] = taxi_trips[\"trip_start_timestamp\"].dt.floor(\"H\")\n",
    "\n",
    "    return taxi_trips"
   ]
  },
  {
   "cell_type": "code",
   "execution_count": null,
   "metadata": {},
   "outputs": [],
   "source": [
    "taxi_trips_transformations(taxi_trips)"
   ]
  },
  {
   "cell_type": "markdown",
   "metadata": {},
   "source": [
    "### The update codes of the master tables"
   ]
  },
  {
   "cell_type": "code",
   "execution_count": null,
   "metadata": {},
   "outputs": [],
   "source": [
    "company_master = taxi_trips[\"company\"].drop_duplicates().reset_index(drop = True)\n",
    "\n",
    "company_master = pd.DataFrame(\n",
    "    {\n",
    "        \"company_id\": range(1, len(company_master) + 1),\n",
    "        \"company\": company_master\n",
    "    }\n",
    ")\n",
    "\n",
    "company_master.tail()"
   ]
  },
  {
   "cell_type": "code",
   "execution_count": null,
   "metadata": {},
   "outputs": [],
   "source": [
    "new_company_data = [\n",
    "    {\"company\": \"312 Medallion Management Corp\"},\n",
    "    {\"company\": \"6574 - Babylon Express Inc.\"},\n",
    "    {\"company\": \"XXX\"},\n",
    "    {\"company\": \"XY\"}\n",
    "]\n",
    "\n",
    "new_company_mapping = pd.DataFrame(new_company_data)\n",
    "new_company_mapping "
   ]
  },
  {
   "cell_type": "code",
   "execution_count": null,
   "metadata": {},
   "outputs": [],
   "source": [
    "company_max_id = company_master[\"company_id\"].max()\n",
    "\n",
    "new_companies_list_more_lines = []\n",
    "\n",
    "for company in new_company_mapping[\"company\"].values:\n",
    "    if company not in company_master[\"company\"].values:\n",
    "        new_companies_list_more_lines.append(company)\n",
    "\n",
    "new_companies_list_more_lines"
   ]
  },
  {
   "cell_type": "code",
   "execution_count": null,
   "metadata": {},
   "outputs": [],
   "source": [
    "# in one program line\n",
    "new_companies_list = \\\n",
    "    [company for company in new_company_mapping[\"company\"].values if company not in company_master[\"company\"].values]\n",
    "\n",
    "new_companies_list"
   ]
  },
  {
   "cell_type": "code",
   "execution_count": null,
   "metadata": {},
   "outputs": [],
   "source": [
    "new_companies_df = pd.DataFrame({\n",
    "    \"company_id\": range(company_max_id + 1, company_max_id + len(new_companies_list) + 1),\n",
    "    \"company\": new_companies_list\n",
    "})\n",
    "\n",
    "new_companies_df"
   ]
  },
  {
   "cell_type": "code",
   "execution_count": null,
   "metadata": {},
   "outputs": [],
   "source": [
    "def update_company_master(taxi_trips, company_master):\n",
    "    \"\"\"\n",
    "    Extends the company master dataframe with new companies found in the given taxi trips data.\n",
    "\n",
    "    Args:\n",
    "    - taxi_trips (DataFrame): the daily taxi trips data, where each row represents a trip.\n",
    "    - company_master (DataFrame): the master list of taxi companies.\n",
    "\n",
    "    Returns:\n",
    "    - updated_company_master (DataFrame): the updated master list of taxi companies after adding new companies found in the taxi trips data.\n",
    "    \"\"\"\n",
    "\n",
    "    company_max_id = company_master[\"company_id\"].max()\n",
    "    \n",
    "    new_companies_list = \\\n",
    "        [company for company in taxi_trips[\"company\"].values if company not in company_master[\"company\"].values]\n",
    "    \n",
    "    new_companies_df = pd.DataFrame({\n",
    "        \"company_id\": range(company_max_id + 1, company_max_id + len(new_companies_list) + 1),\n",
    "        \"company\": new_companies_list\n",
    "    })\n",
    "\n",
    "    updated_company_master = pd.concat([company_master, new_companies_df], ignore_index = True)\n",
    "\n",
    "    return updated_company_master"
   ]
  },
  {
   "cell_type": "code",
   "execution_count": null,
   "metadata": {},
   "outputs": [],
   "source": [
    "updated_company_master = update_company_master(taxi_trips = new_company_mapping, company_master = company_master)\n",
    "updated_company_master"
   ]
  },
  {
   "cell_type": "code",
   "execution_count": null,
   "metadata": {},
   "outputs": [],
   "source": [
    "payment_type_master = taxi_trips[\"payment_type\"].drop_duplicates().reset_index(drop = True)\n",
    "\n",
    "payment_type_master = pd.DataFrame(\n",
    "    {\n",
    "        \"payment_type_id\": range(1, len(payment_type_master) + 1),\n",
    "        \"payment_type\": payment_type_master\n",
    "    }\n",
    ")\n",
    "\n",
    "taxi_trips_payment_type_only = pd.DataFrame(\n",
    "    {\n",
    "        \"payment_type_id\": range(1, 5),\n",
    "        \"payment_type\": [\"Credit Card\", \"X\", \"Y\", \"Test\"]\n",
    "    }\n",
    ")"
   ]
  },
  {
   "cell_type": "code",
   "execution_count": null,
   "metadata": {},
   "outputs": [],
   "source": [
    "def update_payment_type_master(taxi_trips, payment_type_master):\n",
    "    \"\"\"\n",
    "    Extends the payment_type master dataframe with new payment types found in the given taxi trips data.\n",
    "\n",
    "    Args:\n",
    "    - taxi_trips (DataFrame): the daily taxi trips data, where each row represents a trip.\n",
    "    - payment_type_master (DataFrame): the master list of taxi payment types.\n",
    "\n",
    "    Returns:\n",
    "    - updated_payment_type_master (DataFrame): the updated master list of taxi payment types\n",
    "        after adding new payment types found in the taxi trips data.\n",
    "    \"\"\"\n",
    "\n",
    "    payment_type_max_id = payment_type_master[\"payment_type_id\"].max()\n",
    "    \n",
    "    new_payment_types_list = \\\n",
    "        [payment_type for payment_type in taxi_trips[\"payment_type\"].values if payment_type not in payment_type_master[\"payment_type\"].values]\n",
    "    \n",
    "    new_payment_types_df = pd.DataFrame({\n",
    "        \"payment_type_id\": range(payment_type_max_id + 1, payment_type_max_id + len(new_payment_types_list) + 1),\n",
    "        \"payment_type\": new_payment_types_list\n",
    "    })\n",
    "\n",
    "    updated_payment_type_master = pd.concat([payment_type_master, new_payment_types_df], ignore_index = True)\n",
    "\n",
    "    return updated_payment_type_master"
   ]
  },
  {
   "cell_type": "code",
   "execution_count": null,
   "metadata": {},
   "outputs": [],
   "source": [
    "updated_payment_type_master = update_payment_type_master(taxi_trips = taxi_trips_payment_type_only,\n",
    "                                            payment_type_master = payment_type_master)\n",
    "updated_payment_type_master"
   ]
  },
  {
   "cell_type": "markdown",
   "metadata": {},
   "source": [
    "### Creating a generic update master table function"
   ]
  },
  {
   "cell_type": "code",
   "execution_count": null,
   "metadata": {},
   "outputs": [],
   "source": [
    "def update_master(taxi_trips: pd.DataFrame, master: pd.DataFrame, id_column: str, value_column: str) -> pd.DataFrame:\n",
    "    \"\"\"\n",
    "    Extends the master DataFrame with new values found in the given taxi trips data.\n",
    "\n",
    "    Args:\n",
    "    - taxi_trips (DataFrame): the daily taxi trips data, where each row represents a trip.\n",
    "    - payment_type_master (DataFrame): the master list of taxi payment types.\n",
    "\n",
    "    Returns:\n",
    "    - updated_master (DataFrame): the updated master list\n",
    "        after adding new values found in the taxi trips data.\n",
    "    - id_column (str): the id column of the master DataFrame\n",
    "    - value_column (str): the value column of the master DataFrame\n",
    "    \"\"\"\n",
    "\n",
    "    max_id = master[id_column].max()\n",
    "    \n",
    "    new_values_list = \\\n",
    "        [value for value in taxi_trips[value_column].values if value not in master[value_column].values]\n",
    "    \n",
    "    new_values_df = pd.DataFrame({\n",
    "        id_column: range(max_id + 1, max_id + len(new_values_list) + 1),\n",
    "        value_column: new_values_list\n",
    "    })\n",
    "\n",
    "    updated_master = pd.concat([master, new_values_df], ignore_index = True)\n",
    "\n",
    "    return updated_master"
   ]
  },
  {
   "cell_type": "code",
   "execution_count": null,
   "metadata": {},
   "outputs": [],
   "source": [
    "updated_payment_type_master = update_master(taxi_trips = taxi_trips_payment_type_only,\n",
    "                                            master = payment_type_master,\n",
    "                                            id_column=\"payment_type_id\", value_column=\"payment_type\")\n",
    "updated_payment_type_master"
   ]
  },
  {
   "cell_type": "markdown",
   "metadata": {},
   "source": [
    "### update taxi_trips with the most recent master ids"
   ]
  },
  {
   "cell_type": "code",
   "execution_count": null,
   "metadata": {},
   "outputs": [],
   "source": [
    "def update_taxi_trips_with_master_data(taxi_trips: pd.DataFrame, payment_type_master: pd.DataFrame,\n",
    "                                       company_master: pd.DataFrame) -> pd.DataFrame:\n",
    "\n",
    "    #todo: ds c197 0:29\n",
    "    \n",
    "    taxi_trips_id = taxi_trips.merge(payment_type_master, on=\"payment_type\")\n",
    "    taxi_trips_id = taxi_trips_id.merge(company_master, on=\"company\")\n",
    "\n",
    "    taxi_trips_id.drop([\"payment_type\", \"company\"], axis = 1, inplace = True)\n",
    "\n",
    "    return taxi_trips_id"
   ]
  },
  {
   "cell_type": "code",
   "execution_count": null,
   "metadata": {},
   "outputs": [],
   "source": [
    "taxi_trips_id = update_taxi_trips_with_master_data(taxi_trips=taxi_trips, payment_type_master=payment_type_master,\n",
    "                                                   company_master=company_master)\n",
    "\n",
    "taxi_trips_id.sample(5)"
   ]
  }
 ],
 "metadata": {
  "kernelspec": {
   "display_name": "base",
   "language": "python",
   "name": "python3"
  },
  "language_info": {
   "codemirror_mode": {
    "name": "ipython",
    "version": 3
   },
   "file_extension": ".py",
   "mimetype": "text/x-python",
   "name": "python",
   "nbconvert_exporter": "python",
   "pygments_lexer": "ipython3",
   "version": "3.11.7"
  }
 },
 "nbformat": 4,
 "nbformat_minor": 2
}
