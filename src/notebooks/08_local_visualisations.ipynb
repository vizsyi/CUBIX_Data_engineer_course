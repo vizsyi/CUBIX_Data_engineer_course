{
 "cells": [
  {
   "cell_type": "code",
   "execution_count": 35,
   "metadata": {},
   "outputs": [],
   "source": [
    "from io import StringIO\n",
    "import os\n",
    "\n",
    "import boto3\n",
    "import pandas as pd\n",
    "\n",
    "import matplotlib.pyplot as plt\n",
    "\n",
    "pd.set_option(\"display.max_columns\", 50)"
   ]
  },
  {
   "cell_type": "code",
   "execution_count": null,
   "metadata": {},
   "outputs": [],
   "source": [
    "aws_access_key = os.getenv(\"AWS_ACCESS_KEY\")\n",
    "aws_secret_key = os.getenv(\"AWS_ACCESS_SECRET_KEY\")"
   ]
  },
  {
   "cell_type": "code",
   "execution_count": null,
   "metadata": {},
   "outputs": [],
   "source": [
    "def read_csv_from_s3(bucket: str, path: str, filename: str) -> pd.DataFrame:\n",
    "    \"\"\"\n",
    "    Reads a CSV file from an Amazon S3 bucket and returns it as a Pandas DataFrame.\n",
    "\n",
    "    Parameters:\n",
    "        bucket (str): The name of the S3 bucket.\n",
    "        path (str): The path within the S3 bucket where the file is located.\n",
    "        filename (str): The name of the CSV file to be read.\n",
    "\n",
    "    Returns:\n",
    "        pd.DataFrame: A DataFrame containing the data from the CSV file.\n",
    "    \"\"\"\n",
    "    \n",
    "    s3 = boto3.client(\"s3\", aws_access_key_id = aws_access_key, aws_secret_access_key = aws_secret_key)\n",
    "    \n",
    "    full_path = f\"{path}{filename}\"\n",
    "\n",
    "    object = s3.get_object(Bucket = bucket, Key = full_path)\n",
    "    object = object[\"Body\"].read().decode(\"utf-8\")\n",
    "    output_df = pd.read_csv(StringIO(object))\n",
    "    \n",
    "    return output_df"
   ]
  },
  {
   "cell_type": "code",
   "execution_count": null,
   "metadata": {},
   "outputs": [],
   "source": [
    "def read_csv_from_s3_folder(bucket: str, folder_path: str) -> pd.DataFrame:\n",
    "    data_list = []\n",
    "\n",
    "    for file in s3.list_objects(Bucket = bucket, Prefix = folder_path)['Contents']:\n",
    "        file_key = file['Key']\n",
    "        \n",
    "        filename = file_key.split(\"/\")[-1].strip()\n",
    "        \n",
    "        if filename != \"\":\n",
    "            if file_key.split(\".\")[-1] == \"csv\":\n",
    "\n",
    "                data = read_csv_from_s3(bucket, folder_path, filename)\n",
    "                data_list.append(data)\n",
    "                print(f\"{filename} has been added.\")\n",
    "\n",
    "    return pd.concat(data_list, ignore_index=True)"
   ]
  },
  {
   "cell_type": "code",
   "execution_count": null,
   "metadata": {},
   "outputs": [],
   "source": [
    "s3 = boto3.client(\"s3\", aws_access_key_id = aws_access_key, aws_secret_access_key = aws_secret_key)\n",
    "\n",
    "bucket = \"cubix-chicago-taxi-vi\"\n",
    "\n",
    "com_areas_path = \"transformed_data/community_areas/\"\n",
    "company_path = \"transformed_data/company/\"\n",
    "date_path = \"transformed_data/date/\"\n",
    "payment_type_path = \"transformed_data/payment_type/\"\n",
    "taxi_trips_path = \"transformed_data/taxi_trips/\"\n",
    "weather_path = \"transformed_data/weather/\"\n"
   ]
  },
  {
   "cell_type": "code",
   "execution_count": null,
   "metadata": {},
   "outputs": [],
   "source": [
    "com_ares = read_csv_from_s3(bucket, com_areas_path, \"community_areas_master.csv\" )\n",
    "company = read_csv_from_s3(bucket, company_path, \"company_master.csv\" )\n",
    "date = read_csv_from_s3(bucket, date_path, \"date_dimension.csv\" )\n",
    "payment_type = read_csv_from_s3(bucket, payment_type_path, \"payment_type_master.csv\" )\n",
    "\n",
    "trips = read_csv_from_s3_folder(bucket, taxi_trips_path)\n",
    "weather = read_csv_from_s3_folder(bucket, weather_path)"
   ]
  },
  {
   "cell_type": "markdown",
   "metadata": {},
   "source": [
    "### Extras of the Hourly weather data"
   ]
  },
  {
   "cell_type": "code",
   "execution_count": null,
   "metadata": {},
   "outputs": [],
   "source": [
    "def precipitation(row):\n",
    "    if row[\"rain\"] != row[\"precipitation\"]:\n",
    "        val = \"Other\"\n",
    "    elif row[\"rain\"] > 0:\n",
    "        val = \"Rainy\"\n",
    "    else:\n",
    "        val = \"No\"\n",
    "    return val"
   ]
  },
  {
   "cell_type": "code",
   "execution_count": null,
   "metadata": {},
   "outputs": [],
   "source": [
    "weather[\"hour\"] = pd.to_datetime(weather[\"datetime\"]).dt.hour\n",
    "weather['is_rainy'] = weather.apply(precipitation, axis=1)\n",
    "weather.info()\n",
    "weather.sample()"
   ]
  },
  {
   "cell_type": "code",
   "execution_count": null,
   "metadata": {},
   "outputs": [],
   "source": [
    "#com_ares.head()\n",
    "#company.head()\n",
    "#date.head()\n",
    "#payment_type.head()\n"
   ]
  },
  {
   "cell_type": "markdown",
   "metadata": {},
   "source": [
    "## Join them together"
   ]
  },
  {
   "cell_type": "code",
   "execution_count": null,
   "metadata": {},
   "outputs": [],
   "source": [
    "trips_full = pd.merge(trips, weather, left_on=\"datetime_for_weather\", right_on = \"datetime\", how=\"inner\")\n",
    "trips_full = trips_full.drop(columns=[\"datetime\"])"
   ]
  },
  {
   "cell_type": "code",
   "execution_count": null,
   "metadata": {},
   "outputs": [],
   "source": [
    "trips_full = pd.merge(trips_full, company, left_on=\"company_id\", right_on = \"company_id\", how=\"inner\")\n",
    "trips_full = trips_full.drop(columns=[\"company_id\"])"
   ]
  },
  {
   "cell_type": "code",
   "execution_count": null,
   "metadata": {},
   "outputs": [],
   "source": [
    "trips_full = pd.merge(trips_full, payment_type, left_on=\"payment_type_id\", right_on = \"payment_type_id\", how=\"inner\")\n",
    "trips_full = trips_full.drop(columns=[\"payment_type_id\"])"
   ]
  },
  {
   "cell_type": "code",
   "execution_count": null,
   "metadata": {},
   "outputs": [],
   "source": [
    "trips_full = pd.merge(trips_full, com_ares, left_on=\"pickup_community_area_id\", right_on = \"area_code\", how=\"inner\")\n",
    "trips_full = trips_full.drop(columns=[\"pickup_community_area_id\", \"area_code\"])\n",
    "trips_full.rename(columns={\"community_name\": \"pickup_community_name\"}, inplace=True)"
   ]
  },
  {
   "cell_type": "code",
   "execution_count": null,
   "metadata": {},
   "outputs": [],
   "source": [
    "trips_full = pd.merge(trips_full, com_ares, left_on=\"dropoff_community_area_id\", right_on = \"area_code\", how=\"inner\")\n",
    "trips_full = trips_full.drop(columns=[\"dropoff_community_area_id\", \"area_code\"])\n",
    "trips_full.rename(columns={\"community_name\": \"dropoff_community_name\"}, inplace=True)"
   ]
  },
  {
   "cell_type": "code",
   "execution_count": null,
   "metadata": {},
   "outputs": [],
   "source": [
    "date[\"date\"] = pd.to_datetime(date[\"date\"])\n",
    "trips_full[\"trip_start_timestamp\"] = pd.to_datetime(trips_full[\"trip_start_timestamp\"])\n",
    "\n",
    "trips_full[\"trip_start_date\"] = trips_full[\"trip_start_timestamp\"].dt.date\n",
    "trips_full[\"trip_start_date\"] = pd.to_datetime(trips_full[\"trip_start_date\"])"
   ]
  },
  {
   "cell_type": "code",
   "execution_count": null,
   "metadata": {},
   "outputs": [],
   "source": [
    "trips_full = pd.merge(trips_full, date, left_on=\"trip_start_date\", right_on = \"date\", how=\"inner\")\n",
    "trips_full = trips_full.drop(columns=[\"date\"])"
   ]
  },
  {
   "cell_type": "code",
   "execution_count": null,
   "metadata": {},
   "outputs": [],
   "source": [
    "trips_full.head()\n",
    "trips_full.info()\n",
    "\n",
    "#com_ares.head()"
   ]
  },
  {
   "cell_type": "code",
   "execution_count": null,
   "metadata": {},
   "outputs": [],
   "source": [
    "#date.head()\n",
    "#date.info()"
   ]
  },
  {
   "cell_type": "markdown",
   "metadata": {},
   "source": [
    "## Visualisation"
   ]
  },
  {
   "cell_type": "markdown",
   "metadata": {},
   "source": [
    "### Analysing the weekdays"
   ]
  },
  {
   "cell_type": "code",
   "execution_count": null,
   "metadata": {},
   "outputs": [],
   "source": [
    "trips_per_day = trips_full.groupby([\"trip_start_date\", \"day_of_week\"]).agg(trip_count = (\"trip_id\", \"count\"))\n",
    "trips_per_weekday = trips_per_day.groupby(\"day_of_week\").trip_count.mean()\n",
    "\n",
    "trips_per_weekday"
   ]
  },
  {
   "cell_type": "code",
   "execution_count": null,
   "metadata": {},
   "outputs": [],
   "source": [
    "# Plotting the data\n",
    "trips_per_weekday.plot(kind=\"bar\", figsize=(14, 8), fontsize=12)\n",
    "\n",
    "# Adding titles and labels\n",
    "plt.xlabel(\"Weekday\", fontsize = 13)\n",
    "plt.ylabel(\"Count of the trips\", fontsize = 13)\n",
    "plt.title(\"Daily trip counts\", fontsize = 20, pad = 18)\n",
    "\n",
    "# Show and save the plot into a file\n",
    "figure = plt.gcf()\n",
    "#plt.gcf().subplots_adjust(bottom=0.41)\n",
    "plt.show()\n",
    "figure.savefig(\"../img/daily_trip_count.svg\", dpi = 100)"
   ]
  },
  {
   "cell_type": "markdown",
   "metadata": {},
   "source": [
    "### Rain effect on the hourly trips"
   ]
  },
  {
   "cell_type": "code",
   "execution_count": null,
   "metadata": {},
   "outputs": [],
   "source": [
    "#trips_full.head(3)"
   ]
  },
  {
   "cell_type": "code",
   "execution_count": null,
   "metadata": {},
   "outputs": [],
   "source": [
    "# Only workdays to eliminate the differnce of the weekend\n",
    "workday_trips = trips_full[~trips_full[\"is_weekend\"]]\n",
    "\n",
    "datetime_trips = workday_trips.groupby([\"datetime_for_weather\", \"hour\", \"is_rainy\"]).agg(trip_count = (\"trip_id\", \"count\"))\n",
    "del workday_trips\n",
    "\n",
    "hourly_trips = datetime_trips.groupby([\"hour\", \"is_rainy\"]).agg(hourly_trips=(\"trip_count\", \"mean\")).reset_index()\n",
    "#hourly_trips\n",
    "\n",
    "# Separate data for rainy and non-rainy hours\n",
    "rainy_trips = hourly_trips[hourly_trips['is_rainy'] == \"Rainy\"]\n",
    "non_rainy_trips = hourly_trips[hourly_trips['is_rainy'] == \"No\"]\n",
    "trips_with_other_precipitation = hourly_trips[hourly_trips['is_rainy'] == \"Other\"]\n",
    "\n",
    "rainy_trips"
   ]
  },
  {
   "cell_type": "code",
   "execution_count": null,
   "metadata": {},
   "outputs": [],
   "source": [
    "# Plotting the data\n",
    "plt.figure(figsize=(14, 7))\n",
    "plt.plot(non_rainy_trips['hour'], non_rainy_trips['hourly_trips'], label='Non-Rainy', marker='x', color = '#FF5733')\n",
    "plt.plot(rainy_trips['hour'], rainy_trips['hourly_trips'], label='Rainy', marker='o', color = '#4544FF')\n",
    "plt.plot(trips_with_other_precipitation['hour'], trips_with_other_precipitation['hourly_trips'],\n",
    "         label='Other precip.', marker='*', color = 'green', markersize = 8)\n",
    "\n",
    "# Adding titles and labels\n",
    "plt.title('Average number of the Trips per Hour (only weekdays)', fontsize = 20, pad = 18)\n",
    "plt.xlabel('Hour of the Day')\n",
    "plt.ylabel('Average Number of Hourly trips')\n",
    "plt.legend()\n",
    "\n",
    "# Show and save the plot into a file\n",
    "plt.grid(True)\n",
    "plt.xticks(range(0, 24))  # Setting x-axis ticks to cover all 24 hours\n",
    "figure = plt.gcf()\n",
    "plt.show()\n",
    "figure.savefig(\"../img/hourly_trip_count.svg\", dpi = 100)"
   ]
  },
  {
   "cell_type": "markdown",
   "metadata": {},
   "source": [
    "### Analysing the companies"
   ]
  },
  {
   "cell_type": "code",
   "execution_count": null,
   "metadata": {},
   "outputs": [],
   "source": [
    "# Counting the unique taxis per company\n",
    "taxis = trips_full.loc[:, [\"company\", \"taxi_id\"]]\n",
    "taxis = taxis.drop_duplicates()\n",
    "taxis_per_company = taxis.groupby(\"company\").taxi_id.count().nlargest(8)\n",
    "taxis_per_company"
   ]
  },
  {
   "cell_type": "code",
   "execution_count": null,
   "metadata": {},
   "outputs": [],
   "source": [
    "# Plotting the data\n",
    "#plt.style.use(\"seaborn\")\n",
    "taxis_per_company.plot(kind=\"bar\", figsize=(14, 8), fontsize=12)\n",
    "\n",
    "# Adding titles and labels\n",
    "plt.xlabel(\"Company\", fontsize = 13)\n",
    "plt.ylabel(\"No. of cars\", fontsize = 13)\n",
    "plt.title(\"No. of the used cars per company\", fontsize = 20)\n",
    "\n",
    "# Show and save the plot into a file\n",
    "figure = plt.gcf()\n",
    "plt.gcf().subplots_adjust(bottom=0.41)\n",
    "#figure.set_size_inches(14, 8)\n",
    "plt.show()\n",
    "figure.savefig(\"../img/companies_taxi_count.svg\", dpi = 100)"
   ]
  },
  {
   "cell_type": "code",
   "execution_count": null,
   "metadata": {},
   "outputs": [],
   "source": [
    "# The top companies with the largest number of the trips\n",
    "trips_per_company = trips_full.groupby(\"company\").trip_id.count().nlargest(7)\n",
    "trips_per_company"
   ]
  },
  {
   "cell_type": "code",
   "execution_count": null,
   "metadata": {},
   "outputs": [],
   "source": [
    "# Plotting the data\n",
    "trips_per_company.plot(kind=\"bar\", figsize=(14, 8), fontsize=12)\n",
    "\n",
    "# Adding titles and labels\n",
    "plt.xlabel(\"Company\", fontsize = 13)\n",
    "plt.ylabel(\"Count of the trips\", fontsize = 13)\n",
    "plt.title(\"Count of the trips per company\", fontsize = 20)\n",
    "\n",
    "# Show and save the plot into a file\n",
    "figure = plt.gcf()\n",
    "plt.gcf().subplots_adjust(bottom=0.41)\n",
    "plt.show()\n",
    "figure.savefig(\"../img/companies_trip_count.svg\", dpi = 100)\n"
   ]
  },
  {
   "cell_type": "code",
   "execution_count": null,
   "metadata": {},
   "outputs": [],
   "source": [
    "# The top companies with the longest total distance\n",
    "trips_miles_per_company = trips_full.groupby(\"company\").trip_miles.sum().nlargest(7)\n",
    "trips_miles_per_company"
   ]
  },
  {
   "cell_type": "code",
   "execution_count": null,
   "metadata": {},
   "outputs": [],
   "source": [
    "# Plotting the data\n",
    "trips_miles_per_company.plot(kind=\"bar\", figsize=(14, 8), fontsize=12)\n",
    "\n",
    "# Adding titles and labels\n",
    "plt.xlabel(\"Company\", fontsize = 13)\n",
    "plt.ylabel(\"Sum of miles\", fontsize = 13)\n",
    "plt.title(\"Total distance per company\", fontsize = 20)\n",
    "\n",
    "# Show and save the plot into a file\n",
    "figure = plt.gcf()\n",
    "plt.gcf().subplots_adjust(bottom=0.41)\n",
    "plt.show()\n",
    "figure.savefig(\"../img/companies_total_miles.svg\", dpi = 100)"
   ]
  },
  {
   "cell_type": "code",
   "execution_count": null,
   "metadata": {},
   "outputs": [],
   "source": [
    "# The top companies with the bigest income (trip_total)\n",
    "trips_income_per_company = trips_full.groupby(\"company\").trip_total.sum().nlargest(7)\n",
    "trips_income_per_company"
   ]
  },
  {
   "cell_type": "code",
   "execution_count": null,
   "metadata": {},
   "outputs": [],
   "source": [
    "# Plotting the data\n",
    "trips_income_per_company.plot(kind=\"bar\", figsize=(14, 8), fontsize=12)\n",
    "\n",
    "# Adding titles and labels\n",
    "plt.xlabel(\"Company\", fontsize = 13)\n",
    "plt.ylabel(\"Sum of total fare\", fontsize = 13)\n",
    "plt.title(\"Total income per company\", fontsize = 20)\n",
    "\n",
    "# Show and save the plot into a file\n",
    "figure = plt.gcf()\n",
    "plt.gcf().subplots_adjust(bottom=0.41)\n",
    "plt.show()\n",
    "figure.savefig(\"../img/companies_total_income.svg\", dpi = 100)"
   ]
  }
 ],
 "metadata": {
  "kernelspec": {
   "display_name": "base",
   "language": "python",
   "name": "python3"
  },
  "language_info": {
   "codemirror_mode": {
    "name": "ipython",
    "version": 3
   },
   "file_extension": ".py",
   "mimetype": "text/x-python",
   "name": "python",
   "nbconvert_exporter": "python",
   "pygments_lexer": "ipython3",
   "version": "3.12.3"
  }
 },
 "nbformat": 4,
 "nbformat_minor": 2
}
