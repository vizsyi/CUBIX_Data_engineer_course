{
 "cells": [
  {
   "cell_type": "code",
   "execution_count": null,
   "metadata": {},
   "outputs": [],
   "source": [
    "from io import StringIO\n",
    "import os\n",
    "\n",
    "import boto3\n",
    "import pandas as pd\n",
    "\n",
    "import matplotlib.pyplot as plt\n",
    "\n",
    "pd.set_option(\"display.max_columns\", 50)"
   ]
  },
  {
   "cell_type": "code",
   "execution_count": null,
   "metadata": {},
   "outputs": [],
   "source": [
    "aws_access_key = os.getenv(\"AWS_ACCESS_KEY\")\n",
    "aws_secret_key = os.getenv(\"AWS_ACCESS_SECRET_KEY\")"
   ]
  },
  {
   "cell_type": "code",
   "execution_count": null,
   "metadata": {},
   "outputs": [],
   "source": [
    "def read_csv_from_s3(bucket: str, path: str, filename: str) -> pd.DataFrame:\n",
    "    \"\"\"\n",
    "    Reads a CSV file from an Amazon S3 bucket and returns it as a Pandas DataFrame.\n",
    "\n",
    "    Parameters:\n",
    "        bucket (str): The name of the S3 bucket.\n",
    "        path (str): The path within the S3 bucket where the file is located.\n",
    "        filename (str): The name of the CSV file to be read.\n",
    "\n",
    "    Returns:\n",
    "        pd.DataFrame: A DataFrame containing the data from the CSV file.\n",
    "    \"\"\"\n",
    "    \n",
    "    s3 = boto3.client(\"s3\", aws_access_key_id = aws_access_key, aws_secret_access_key = aws_secret_key)\n",
    "    \n",
    "    full_path = f\"{path}{filename}\"\n",
    "\n",
    "    object = s3.get_object(Bucket = bucket, Key = full_path)\n",
    "    object = object[\"Body\"].read().decode(\"utf-8\")\n",
    "    output_df = pd.read_csv(StringIO(object))\n",
    "    \n",
    "    return output_df"
   ]
  },
  {
   "cell_type": "code",
   "execution_count": null,
   "metadata": {},
   "outputs": [],
   "source": [
    "def read_csv_from_s3_folder(bucket: str, folder_path: str) -> pd.DataFrame:\n",
    "    data_list = []\n",
    "\n",
    "    for file in s3.list_objects(Bucket = bucket, Prefix = folder_path)['Contents']:\n",
    "        file_key = file['Key']\n",
    "        \n",
    "        filename = file_key.split(\"/\")[-1].strip()\n",
    "        \n",
    "        if filename != \"\":\n",
    "            if file_key.split(\".\")[-1] == \"csv\":\n",
    "\n",
    "                data = read_csv_from_s3(bucket, folder_path, filename)\n",
    "                data_list.append(data)\n",
    "                print(f\"{filename} has been added.\")\n",
    "\n",
    "    return pd.concat(data_list, ignore_index=True)"
   ]
  },
  {
   "cell_type": "code",
   "execution_count": null,
   "metadata": {},
   "outputs": [],
   "source": [
    "s3 = boto3.client(\"s3\", aws_access_key_id = aws_access_key, aws_secret_access_key = aws_secret_key)\n",
    "\n",
    "bucket = \"cubix-chicago-taxi-vi\"\n",
    "\n",
    "com_areas_path = \"transformed_data/community_areas/\"\n",
    "company_path = \"transformed_data/company/\"\n",
    "date_path = \"transformed_data/date/\"\n",
    "payment_type_path = \"transformed_data/payment_type/\"\n",
    "taxi_trips_path = \"transformed_data/taxi_trips/\"\n",
    "weather_path = \"transformed_data/weather/\"\n"
   ]
  },
  {
   "cell_type": "code",
   "execution_count": null,
   "metadata": {},
   "outputs": [],
   "source": [
    "com_ares = read_csv_from_s3(bucket, com_areas_path, \"community_areas_master.csv\" )\n",
    "company = read_csv_from_s3(bucket, company_path, \"company_master.csv\" )\n",
    "date = read_csv_from_s3(bucket, date_path, \"date_dimension.csv\" )\n",
    "payment_type = read_csv_from_s3(bucket, payment_type_path, \"payment_type_master.csv\" )\n",
    "\n",
    "trips = read_csv_from_s3_folder(bucket, taxi_trips_path)\n",
    "weather = read_csv_from_s3_folder(bucket, weather_path)"
   ]
  },
  {
   "cell_type": "markdown",
   "metadata": {},
   "source": [
    "### Extras of the Hourly weather data"
   ]
  },
  {
   "cell_type": "code",
   "execution_count": null,
   "metadata": {},
   "outputs": [],
   "source": [
    "def precipitation(row):\n",
    "    if row[\"rain\"] != row[\"precipitation\"]:\n",
    "        val = \"Other\"\n",
    "    elif row[\"rain\"] > 0:\n",
    "        val = \"Rainy\"\n",
    "    else:\n",
    "        val = \"No\"\n",
    "    return val"
   ]
  },
  {
   "cell_type": "code",
   "execution_count": null,
   "metadata": {},
   "outputs": [],
   "source": [
    "weather[\"hour\"] = pd.to_datetime(weather[\"datetime\"]).dt.hour\n",
    "weather['is_rainy'] = weather.apply(precipitation, axis=1)\n",
    "weather.info()\n",
    "weather.sample()"
   ]
  },
  {
   "cell_type": "code",
   "execution_count": null,
   "metadata": {},
   "outputs": [],
   "source": [
    "#com_ares.head()\n",
    "#company.head()\n",
    "#date.head()\n",
    "#payment_type.head()\n"
   ]
  },
  {
   "cell_type": "markdown",
   "metadata": {},
   "source": [
    "## Join them together"
   ]
  },
  {
   "cell_type": "code",
   "execution_count": null,
   "metadata": {},
   "outputs": [],
   "source": [
    "trips_full = pd.merge(trips, weather, left_on=\"datetime_for_weather\", right_on = \"datetime\", how=\"inner\")\n",
    "trips_full = trips_full.drop(columns=[\"datetime\"])"
   ]
  },
  {
   "cell_type": "code",
   "execution_count": null,
   "metadata": {},
   "outputs": [],
   "source": [
    "trips_full = pd.merge(trips_full, company, left_on=\"company_id\", right_on = \"company_id\", how=\"inner\")\n",
    "trips_full = trips_full.drop(columns=[\"company_id\"])"
   ]
  },
  {
   "cell_type": "code",
   "execution_count": null,
   "metadata": {},
   "outputs": [],
   "source": [
    "trips_full = pd.merge(trips_full, payment_type, left_on=\"payment_type_id\", right_on = \"payment_type_id\", how=\"inner\")\n",
    "trips_full = trips_full.drop(columns=[\"payment_type_id\"])"
   ]
  },
  {
   "cell_type": "code",
   "execution_count": null,
   "metadata": {},
   "outputs": [],
   "source": [
    "trips_full = pd.merge(trips_full, com_ares, left_on=\"pickup_community_area_id\", right_on = \"area_code\", how=\"inner\")\n",
    "trips_full = trips_full.drop(columns=[\"pickup_community_area_id\", \"area_code\"])\n",
    "trips_full.rename(columns={\"community_name\": \"pickup_community_name\"}, inplace=True)"
   ]
  },
  {
   "cell_type": "code",
   "execution_count": null,
   "metadata": {},
   "outputs": [],
   "source": [
    "trips_full = pd.merge(trips_full, com_ares, left_on=\"dropoff_community_area_id\", right_on = \"area_code\", how=\"inner\")\n",
    "trips_full = trips_full.drop(columns=[\"dropoff_community_area_id\", \"area_code\"])\n",
    "trips_full.rename(columns={\"community_name\": \"dropoff_community_name\"}, inplace=True)"
   ]
  },
  {
   "cell_type": "code",
   "execution_count": null,
   "metadata": {},
   "outputs": [],
   "source": [
    "date[\"date\"] = pd.to_datetime(date[\"date\"])\n",
    "trips_full[\"trip_start_timestamp\"] = pd.to_datetime(trips_full[\"trip_start_timestamp\"])\n",
    "\n",
    "trips_full[\"trip_start_date\"] = trips_full[\"trip_start_timestamp\"].dt.date\n",
    "trips_full[\"trip_start_date\"] = pd.to_datetime(trips_full[\"trip_start_date\"])"
   ]
  },
  {
   "cell_type": "code",
   "execution_count": null,
   "metadata": {},
   "outputs": [],
   "source": [
    "trips_full = pd.merge(trips_full, date, left_on=\"trip_start_date\", right_on = \"date\", how=\"inner\")\n",
    "trips_full = trips_full.drop(columns=[\"date\"])"
   ]
  },
  {
   "cell_type": "code",
   "execution_count": null,
   "metadata": {},
   "outputs": [],
   "source": [
    "trips_full.head()\n",
    "trips_full.info()\n",
    "\n",
    "#com_ares.head()"
   ]
  },
  {
   "cell_type": "code",
   "execution_count": null,
   "metadata": {},
   "outputs": [],
   "source": [
    "#date.head()\n",
    "#date.info()"
   ]
  }
 ],
 "metadata": {
  "kernelspec": {
   "display_name": "base",
   "language": "python",
   "name": "python3"
  },
  "language_info": {
   "codemirror_mode": {
    "name": "ipython",
    "version": 3
   },
   "file_extension": ".py",
   "mimetype": "text/x-python",
   "name": "python",
   "nbconvert_exporter": "python",
   "pygments_lexer": "ipython3",
   "version": "3.12.3"
  }
 },
 "nbformat": 4,
 "nbformat_minor": 2
}
