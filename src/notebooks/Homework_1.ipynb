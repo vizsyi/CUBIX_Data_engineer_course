{
 "cells": [
  {
   "cell_type": "markdown",
   "metadata": {},
   "source": [
    "# Module II / Homework 1"
   ]
  },
  {
   "cell_type": "code",
   "execution_count": 20,
   "metadata": {},
   "outputs": [],
   "source": [
    "# The necessary namespaces\n",
    "import json, sys"
   ]
  },
  {
   "cell_type": "code",
   "execution_count": 21,
   "metadata": {},
   "outputs": [],
   "source": [
    "# reading the json file\n",
    "file_path = \"../../data/json_handling/spotify_playlist.json\"\n",
    "\n",
    "with open(file_path, \"r\") as json_file:\n",
    "    data = json.load(json_file)"
   ]
  },
  {
   "cell_type": "markdown",
   "metadata": {},
   "source": [
    "## Searching the track which has the lowest playcount"
   ]
  },
  {
   "cell_type": "code",
   "execution_count": 22,
   "metadata": {},
   "outputs": [
    {
     "data": {
      "text/plain": [
       "31309112207"
      ]
     },
     "execution_count": 22,
     "metadata": {},
     "output_type": "execute_result"
    }
   ],
   "source": [
    "lowest_playcount = sys.maxsize\n",
    "lowest_song_name = \"\"\n",
    "total_playcount = 0\n",
    "\n",
    "for track in data[\"contents\"][\"items\"]:\n",
    "    total_playcount += track[\"playCount\"]\n",
    "    if track[\"playCount\"] < lowest_playcount:\n",
    "        lowest_playcount = track[\"playCount\"]\n",
    "        lowest_song_name = track[\"name\"]\n",
    "\n",
    "total_playcount"
   ]
  },
  {
   "cell_type": "code",
   "execution_count": 26,
   "metadata": {},
   "outputs": [
    {
     "name": "stdout",
     "output_type": "stream",
     "text": [
      "The song 'Si No Estás' has the lowest, 24,413,575 playCount.\n"
     ]
    }
   ],
   "source": [
    "#print(\"The song %s has the lowest, %5s playCount.\" % (lowest_song_name, lowest_playcount))\n",
    "#print(\"The song '{}' has the lowest, {:,} playCount.\".format(lowest_song_name, lowest_playcount))\n",
    "print(f'The song \\'{lowest_song_name}\\' has the lowest, {lowest_playcount:,} playCount.')"
   ]
  }
 ],
 "metadata": {
  "kernelspec": {
   "display_name": "venv",
   "language": "python",
   "name": "python3"
  },
  "language_info": {
   "codemirror_mode": {
    "name": "ipython",
    "version": 3
   },
   "file_extension": ".py",
   "mimetype": "text/x-python",
   "name": "python",
   "nbconvert_exporter": "python",
   "pygments_lexer": "ipython3",
   "version": "3.11.7"
  }
 },
 "nbformat": 4,
 "nbformat_minor": 2
}
